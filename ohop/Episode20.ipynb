{
 "cells": [
  {
   "cell_type": "markdown",
   "id": "26c50a56",
   "metadata": {},
   "source": [
    "# Episode 20\n",
    "\n",
    "In a desperate attempt to regain some composure following a cheese migration incident, we note the deprecation of `pgen` in the CPython implementation, and then continue to assume nothing is wrong.  After all, using LL(1) pushdown automata is a perfectly fine method of parsing source code, and will continue to live in the heart and minds of countless pre-3.9 Pythonistas..."
   ]
  },
  {
   "cell_type": "code",
   "execution_count": 1,
   "id": "986f52bd",
   "metadata": {},
   "outputs": [
    {
     "name": "stderr",
     "output_type": "stream",
     "text": [
      "/var/folders/q7/ylhf40fn5kq9xrbfmsl61q4h0000gn/T/ipykernel_31067/1112699797.py:1: DeprecationWarning: The parser module is deprecated and will be removed in future versions of Python\n",
      "  import parser\n"
     ]
    }
   ],
   "source": [
    "import parser"
   ]
  },
  {
   "cell_type": "code",
   "execution_count": 2,
   "id": "18b4de7a",
   "metadata": {},
   "outputs": [],
   "source": [
    "%load_ext metamagics"
   ]
  },
  {
   "cell_type": "code",
   "execution_count": 3,
   "id": "529597e5",
   "metadata": {},
   "outputs": [],
   "source": [
    "def ignore_this_after_3_9(cell):\n",
    "    return parser.st2tuple(parser.suite(cell))"
   ]
  },
  {
   "cell_type": "code",
   "execution_count": 4,
   "id": "6e4608ce",
   "metadata": {},
   "outputs": [
    {
     "data": {
      "text/plain": [
       "(257,\n",
       " (269,\n",
       "  (270,\n",
       "   (271,\n",
       "    (272,\n",
       "     (274,\n",
       "      (306,\n",
       "       (310,\n",
       "        (311,\n",
       "         (312,\n",
       "          (313,\n",
       "           (316,\n",
       "            (317,\n",
       "             (318,\n",
       "              (319,\n",
       "               (320,\n",
       "                (321, (322, (323, (324, (325, (2, '1')))))),\n",
       "                (14, '+'),\n",
       "                (321, (322, (323, (324, (325, (2, '2')))))),\n",
       "                (15, '-'),\n",
       "                (321, (322, (323, (324, (325, (2, '3'))))))))))))))))))),\n",
       "   (4, ''))),\n",
       " (269,\n",
       "  (270,\n",
       "   (271,\n",
       "    (272,\n",
       "     (274,\n",
       "      (306,\n",
       "       (310,\n",
       "        (311,\n",
       "         (312,\n",
       "          (313,\n",
       "           (316,\n",
       "            (317,\n",
       "             (318,\n",
       "              (319,\n",
       "               (320, (321, (322, (323, (324, (325, (1, 'A'))))))))))))))))),\n",
       "     (22, '='),\n",
       "     (274,\n",
       "      (306,\n",
       "       (310,\n",
       "        (311,\n",
       "         (312,\n",
       "          (313,\n",
       "           (316,\n",
       "            (317,\n",
       "             (318,\n",
       "              (319,\n",
       "               (320, (321, (322, (323, (324, (325, (2, '42'))))))))))))))))))),\n",
       "   (4, ''))),\n",
       " (4, ''),\n",
       " (0, ''))"
      ]
     },
     "execution_count": 4,
     "metadata": {},
     "output_type": "execute_result"
    }
   ],
   "source": [
    "%%mycell ignore_this_after_3_9\n",
    "1+2-3\n",
    "A=42"
   ]
  },
  {
   "cell_type": "code",
   "execution_count": 5,
   "id": "23bc7481",
   "metadata": {},
   "outputs": [],
   "source": [
    "import io\n",
    "from lib2to3.pgen2 import pgen, driver\n",
    "from typing import Callable, Dict\n",
    "\n",
    "class Bindify:\n",
    "    class Binder:\n",
    "        def __init__(self, parent: 'Bindify', binding_name: str):\n",
    "            self.parent = parent\n",
    "            self.binding_name = binding_name\n",
    "\n",
    "        def __call__(self, cell, shell):\n",
    "            result = self.parent.magic_fun(cell, shell)\n",
    "            shell.user_global_ns[self.binding_name] = result\n",
    "            return result\n",
    "\n",
    "    def __init__(self, magic_fun: Callable):\n",
    "        self.binders: Dict[str, Binder] = {}\n",
    "        self.magic_fun = magic_fun\n",
    "\n",
    "    def __getitem__(self, name: str):\n",
    "        if name in self.binders:\n",
    "            return self.binders[name]\n",
    "        binder = Bindify.Binder(self, name)\n",
    "        self.binders[name] = binder\n",
    "        return binder\n",
    "        \n",
    "    def __call__(self, cell, shell):\n",
    "        return self.magic_fun(cell, shell)\n",
    "\n",
    "def _pgenify(cell, _):\n",
    "    generator = pgen.ParserGenerator('<cell-magic-string>', io.StringIO(cell))\n",
    "    return generator.make_grammar()\n",
    "\n",
    "pgenify = Bindify(_pgenify)"
   ]
  },
  {
   "cell_type": "code",
   "execution_count": 7,
   "id": "a5ef5a13",
   "metadata": {},
   "outputs": [
    {
     "ename": "ValueError",
     "evalue": "rule statement is ambiguous; NAME is in the first sets of expr as well as assign",
     "output_type": "error",
     "traceback": [
      "\u001b[0;31m---------------------------------------------------------------------------\u001b[0m",
      "\u001b[0;31mValueError\u001b[0m                                Traceback (most recent call last)",
      "\u001b[0;32m/var/folders/q7/ylhf40fn5kq9xrbfmsl61q4h0000gn/T/ipykernel_31067/2789056841.py\u001b[0m in \u001b[0;36m<module>\u001b[0;34m\u001b[0m\n\u001b[0;32m----> 1\u001b[0;31m \u001b[0mget_ipython\u001b[0m\u001b[0;34m(\u001b[0m\u001b[0;34m)\u001b[0m\u001b[0;34m.\u001b[0m\u001b[0mrun_cell_magic\u001b[0m\u001b[0;34m(\u001b[0m\u001b[0;34m'mycell'\u001b[0m\u001b[0;34m,\u001b[0m \u001b[0;34m\"pgenify['calc_grammar']\"\u001b[0m\u001b[0;34m,\u001b[0m \u001b[0;34m\"\\nstatements: (statement NEWLINE)* ENDMARKER\\nstatement: assign | expr\\nassign: NAME '=' expr\\nexpr: atom [op expr]\\natom: NAME | NUMBER\\nop: '+' | '-'\\n\"\u001b[0m\u001b[0;34m)\u001b[0m\u001b[0;34m\u001b[0m\u001b[0;34m\u001b[0m\u001b[0m\n\u001b[0m",
      "\u001b[0;32m~/miniforge3/envs/ohop/lib/python3.9/site-packages/IPython/core/interactiveshell.py\u001b[0m in \u001b[0;36mrun_cell_magic\u001b[0;34m(self, magic_name, line, cell)\u001b[0m\n\u001b[1;32m   2401\u001b[0m             \u001b[0;32mwith\u001b[0m \u001b[0mself\u001b[0m\u001b[0;34m.\u001b[0m\u001b[0mbuiltin_trap\u001b[0m\u001b[0;34m:\u001b[0m\u001b[0;34m\u001b[0m\u001b[0;34m\u001b[0m\u001b[0m\n\u001b[1;32m   2402\u001b[0m                 \u001b[0margs\u001b[0m \u001b[0;34m=\u001b[0m \u001b[0;34m(\u001b[0m\u001b[0mmagic_arg_s\u001b[0m\u001b[0;34m,\u001b[0m \u001b[0mcell\u001b[0m\u001b[0;34m)\u001b[0m\u001b[0;34m\u001b[0m\u001b[0;34m\u001b[0m\u001b[0m\n\u001b[0;32m-> 2403\u001b[0;31m                 \u001b[0mresult\u001b[0m \u001b[0;34m=\u001b[0m \u001b[0mfn\u001b[0m\u001b[0;34m(\u001b[0m\u001b[0;34m*\u001b[0m\u001b[0margs\u001b[0m\u001b[0;34m,\u001b[0m \u001b[0;34m**\u001b[0m\u001b[0mkwargs\u001b[0m\u001b[0;34m)\u001b[0m\u001b[0;34m\u001b[0m\u001b[0;34m\u001b[0m\u001b[0m\n\u001b[0m\u001b[1;32m   2404\u001b[0m             \u001b[0;32mreturn\u001b[0m \u001b[0mresult\u001b[0m\u001b[0;34m\u001b[0m\u001b[0;34m\u001b[0m\u001b[0m\n\u001b[1;32m   2405\u001b[0m \u001b[0;34m\u001b[0m\u001b[0m\n",
      "\u001b[0;32m~/miniforge3/envs/ohop/lib/python3.9/site-packages/decorator.py\u001b[0m in \u001b[0;36mfun\u001b[0;34m(*args, **kw)\u001b[0m\n\u001b[1;32m    230\u001b[0m             \u001b[0;32mif\u001b[0m \u001b[0;32mnot\u001b[0m \u001b[0mkwsyntax\u001b[0m\u001b[0;34m:\u001b[0m\u001b[0;34m\u001b[0m\u001b[0;34m\u001b[0m\u001b[0m\n\u001b[1;32m    231\u001b[0m                 \u001b[0margs\u001b[0m\u001b[0;34m,\u001b[0m \u001b[0mkw\u001b[0m \u001b[0;34m=\u001b[0m \u001b[0mfix\u001b[0m\u001b[0;34m(\u001b[0m\u001b[0margs\u001b[0m\u001b[0;34m,\u001b[0m \u001b[0mkw\u001b[0m\u001b[0;34m,\u001b[0m \u001b[0msig\u001b[0m\u001b[0;34m)\u001b[0m\u001b[0;34m\u001b[0m\u001b[0;34m\u001b[0m\u001b[0m\n\u001b[0;32m--> 232\u001b[0;31m             \u001b[0;32mreturn\u001b[0m \u001b[0mcaller\u001b[0m\u001b[0;34m(\u001b[0m\u001b[0mfunc\u001b[0m\u001b[0;34m,\u001b[0m \u001b[0;34m*\u001b[0m\u001b[0;34m(\u001b[0m\u001b[0mextras\u001b[0m \u001b[0;34m+\u001b[0m \u001b[0margs\u001b[0m\u001b[0;34m)\u001b[0m\u001b[0;34m,\u001b[0m \u001b[0;34m**\u001b[0m\u001b[0mkw\u001b[0m\u001b[0;34m)\u001b[0m\u001b[0;34m\u001b[0m\u001b[0;34m\u001b[0m\u001b[0m\n\u001b[0m\u001b[1;32m    233\u001b[0m     \u001b[0mfun\u001b[0m\u001b[0;34m.\u001b[0m\u001b[0m__name__\u001b[0m \u001b[0;34m=\u001b[0m \u001b[0mfunc\u001b[0m\u001b[0;34m.\u001b[0m\u001b[0m__name__\u001b[0m\u001b[0;34m\u001b[0m\u001b[0;34m\u001b[0m\u001b[0m\n\u001b[1;32m    234\u001b[0m     \u001b[0mfun\u001b[0m\u001b[0;34m.\u001b[0m\u001b[0m__doc__\u001b[0m \u001b[0;34m=\u001b[0m \u001b[0mfunc\u001b[0m\u001b[0;34m.\u001b[0m\u001b[0m__doc__\u001b[0m\u001b[0;34m\u001b[0m\u001b[0;34m\u001b[0m\u001b[0m\n",
      "\u001b[0;32m~/miniforge3/envs/ohop/lib/python3.9/site-packages/IPython/core/magic.py\u001b[0m in \u001b[0;36m<lambda>\u001b[0;34m(f, *a, **k)\u001b[0m\n\u001b[1;32m    185\u001b[0m     \u001b[0;31m# but it's overkill for just that one bit of state.\u001b[0m\u001b[0;34m\u001b[0m\u001b[0;34m\u001b[0m\u001b[0m\n\u001b[1;32m    186\u001b[0m     \u001b[0;32mdef\u001b[0m \u001b[0mmagic_deco\u001b[0m\u001b[0;34m(\u001b[0m\u001b[0marg\u001b[0m\u001b[0;34m)\u001b[0m\u001b[0;34m:\u001b[0m\u001b[0;34m\u001b[0m\u001b[0;34m\u001b[0m\u001b[0m\n\u001b[0;32m--> 187\u001b[0;31m         \u001b[0mcall\u001b[0m \u001b[0;34m=\u001b[0m \u001b[0;32mlambda\u001b[0m \u001b[0mf\u001b[0m\u001b[0;34m,\u001b[0m \u001b[0;34m*\u001b[0m\u001b[0ma\u001b[0m\u001b[0;34m,\u001b[0m \u001b[0;34m**\u001b[0m\u001b[0mk\u001b[0m\u001b[0;34m:\u001b[0m \u001b[0mf\u001b[0m\u001b[0;34m(\u001b[0m\u001b[0;34m*\u001b[0m\u001b[0ma\u001b[0m\u001b[0;34m,\u001b[0m \u001b[0;34m**\u001b[0m\u001b[0mk\u001b[0m\u001b[0;34m)\u001b[0m\u001b[0;34m\u001b[0m\u001b[0;34m\u001b[0m\u001b[0m\n\u001b[0m\u001b[1;32m    188\u001b[0m \u001b[0;34m\u001b[0m\u001b[0m\n\u001b[1;32m    189\u001b[0m         \u001b[0;32mif\u001b[0m \u001b[0mcallable\u001b[0m\u001b[0;34m(\u001b[0m\u001b[0marg\u001b[0m\u001b[0;34m)\u001b[0m\u001b[0;34m:\u001b[0m\u001b[0;34m\u001b[0m\u001b[0;34m\u001b[0m\u001b[0m\n",
      "\u001b[0;32m~/git/ohop/ohop/metamagics.py\u001b[0m in \u001b[0;36mmycell\u001b[0;34m(self, line, cell)\u001b[0m\n\u001b[1;32m     25\u001b[0m                 \u001b[0;32mreturn\u001b[0m \u001b[0mmyline\u001b[0m\u001b[0;34m(\u001b[0m\u001b[0mcell\u001b[0m\u001b[0;34m)\u001b[0m\u001b[0;34m\u001b[0m\u001b[0;34m\u001b[0m\u001b[0m\n\u001b[1;32m     26\u001b[0m             \u001b[0;32melif\u001b[0m \u001b[0mmyline_param_count\u001b[0m \u001b[0;34m>\u001b[0m \u001b[0;36m1\u001b[0m\u001b[0;34m:\u001b[0m\u001b[0;34m\u001b[0m\u001b[0;34m\u001b[0m\u001b[0m\n\u001b[0;32m---> 27\u001b[0;31m                 \u001b[0;32mreturn\u001b[0m \u001b[0mmyline\u001b[0m\u001b[0;34m(\u001b[0m\u001b[0mcell\u001b[0m\u001b[0;34m,\u001b[0m \u001b[0mself\u001b[0m\u001b[0;34m.\u001b[0m\u001b[0mshell\u001b[0m\u001b[0;34m)\u001b[0m\u001b[0;34m\u001b[0m\u001b[0;34m\u001b[0m\u001b[0m\n\u001b[0m\u001b[1;32m     28\u001b[0m         \u001b[0;32melse\u001b[0m\u001b[0;34m:\u001b[0m\u001b[0;34m\u001b[0m\u001b[0;34m\u001b[0m\u001b[0m\n\u001b[1;32m     29\u001b[0m             \u001b[0mmycell_ast\u001b[0m \u001b[0;34m=\u001b[0m \u001b[0mparse\u001b[0m\u001b[0;34m(\u001b[0m\u001b[0mcell\u001b[0m\u001b[0;34m,\u001b[0m \u001b[0mmode\u001b[0m\u001b[0;34m=\u001b[0m\u001b[0;34m'exec'\u001b[0m\u001b[0;34m)\u001b[0m\u001b[0;34m\u001b[0m\u001b[0;34m\u001b[0m\u001b[0m\n",
      "\u001b[0;32m/var/folders/q7/ylhf40fn5kq9xrbfmsl61q4h0000gn/T/ipykernel_31067/4101208041.py\u001b[0m in \u001b[0;36m__call__\u001b[0;34m(self, cell, shell)\u001b[0m\n\u001b[1;32m     10\u001b[0m \u001b[0;34m\u001b[0m\u001b[0m\n\u001b[1;32m     11\u001b[0m         \u001b[0;32mdef\u001b[0m \u001b[0m__call__\u001b[0m\u001b[0;34m(\u001b[0m\u001b[0mself\u001b[0m\u001b[0;34m,\u001b[0m \u001b[0mcell\u001b[0m\u001b[0;34m,\u001b[0m \u001b[0mshell\u001b[0m\u001b[0;34m)\u001b[0m\u001b[0;34m:\u001b[0m\u001b[0;34m\u001b[0m\u001b[0;34m\u001b[0m\u001b[0m\n\u001b[0;32m---> 12\u001b[0;31m             \u001b[0mresult\u001b[0m \u001b[0;34m=\u001b[0m \u001b[0mself\u001b[0m\u001b[0;34m.\u001b[0m\u001b[0mparent\u001b[0m\u001b[0;34m.\u001b[0m\u001b[0mmagic_fun\u001b[0m\u001b[0;34m(\u001b[0m\u001b[0mcell\u001b[0m\u001b[0;34m,\u001b[0m \u001b[0mshell\u001b[0m\u001b[0;34m)\u001b[0m\u001b[0;34m\u001b[0m\u001b[0;34m\u001b[0m\u001b[0m\n\u001b[0m\u001b[1;32m     13\u001b[0m             \u001b[0mshell\u001b[0m\u001b[0;34m.\u001b[0m\u001b[0muser_global_ns\u001b[0m\u001b[0;34m[\u001b[0m\u001b[0mself\u001b[0m\u001b[0;34m.\u001b[0m\u001b[0mbinding_name\u001b[0m\u001b[0;34m]\u001b[0m \u001b[0;34m=\u001b[0m \u001b[0mresult\u001b[0m\u001b[0;34m\u001b[0m\u001b[0;34m\u001b[0m\u001b[0m\n\u001b[1;32m     14\u001b[0m             \u001b[0;32mreturn\u001b[0m \u001b[0mresult\u001b[0m\u001b[0;34m\u001b[0m\u001b[0;34m\u001b[0m\u001b[0m\n",
      "\u001b[0;32m/var/folders/q7/ylhf40fn5kq9xrbfmsl61q4h0000gn/T/ipykernel_31067/4101208041.py\u001b[0m in \u001b[0;36m_pgenify\u001b[0;34m(cell, _)\u001b[0m\n\u001b[1;32m     29\u001b[0m \u001b[0;34m\u001b[0m\u001b[0m\n\u001b[1;32m     30\u001b[0m \u001b[0;32mdef\u001b[0m \u001b[0m_pgenify\u001b[0m\u001b[0;34m(\u001b[0m\u001b[0mcell\u001b[0m\u001b[0;34m,\u001b[0m \u001b[0m_\u001b[0m\u001b[0;34m)\u001b[0m\u001b[0;34m:\u001b[0m\u001b[0;34m\u001b[0m\u001b[0;34m\u001b[0m\u001b[0m\n\u001b[0;32m---> 31\u001b[0;31m     \u001b[0mgenerator\u001b[0m \u001b[0;34m=\u001b[0m \u001b[0mpgen\u001b[0m\u001b[0;34m.\u001b[0m\u001b[0mParserGenerator\u001b[0m\u001b[0;34m(\u001b[0m\u001b[0;34m'<cell-magic-string>'\u001b[0m\u001b[0;34m,\u001b[0m \u001b[0mio\u001b[0m\u001b[0;34m.\u001b[0m\u001b[0mStringIO\u001b[0m\u001b[0;34m(\u001b[0m\u001b[0mcell\u001b[0m\u001b[0;34m)\u001b[0m\u001b[0;34m)\u001b[0m\u001b[0;34m\u001b[0m\u001b[0;34m\u001b[0m\u001b[0m\n\u001b[0m\u001b[1;32m     32\u001b[0m     \u001b[0;32mreturn\u001b[0m \u001b[0mgenerator\u001b[0m\u001b[0;34m.\u001b[0m\u001b[0mmake_grammar\u001b[0m\u001b[0;34m(\u001b[0m\u001b[0;34m)\u001b[0m\u001b[0;34m\u001b[0m\u001b[0;34m\u001b[0m\u001b[0m\n\u001b[1;32m     33\u001b[0m \u001b[0;34m\u001b[0m\u001b[0m\n",
      "\u001b[0;32m~/miniforge3/envs/ohop/lib/python3.9/lib2to3/pgen2/pgen.py\u001b[0m in \u001b[0;36m__init__\u001b[0;34m(self, filename, stream)\u001b[0m\n\u001b[1;32m     23\u001b[0m             \u001b[0mclose_stream\u001b[0m\u001b[0;34m(\u001b[0m\u001b[0;34m)\u001b[0m\u001b[0;34m\u001b[0m\u001b[0;34m\u001b[0m\u001b[0m\n\u001b[1;32m     24\u001b[0m         \u001b[0mself\u001b[0m\u001b[0;34m.\u001b[0m\u001b[0mfirst\u001b[0m \u001b[0;34m=\u001b[0m \u001b[0;34m{\u001b[0m\u001b[0;34m}\u001b[0m \u001b[0;31m# map from symbol name to set of tokens\u001b[0m\u001b[0;34m\u001b[0m\u001b[0;34m\u001b[0m\u001b[0m\n\u001b[0;32m---> 25\u001b[0;31m         \u001b[0mself\u001b[0m\u001b[0;34m.\u001b[0m\u001b[0maddfirstsets\u001b[0m\u001b[0;34m(\u001b[0m\u001b[0;34m)\u001b[0m\u001b[0;34m\u001b[0m\u001b[0;34m\u001b[0m\u001b[0m\n\u001b[0m\u001b[1;32m     26\u001b[0m \u001b[0;34m\u001b[0m\u001b[0m\n\u001b[1;32m     27\u001b[0m     \u001b[0;32mdef\u001b[0m \u001b[0mmake_grammar\u001b[0m\u001b[0;34m(\u001b[0m\u001b[0mself\u001b[0m\u001b[0;34m)\u001b[0m\u001b[0;34m:\u001b[0m\u001b[0;34m\u001b[0m\u001b[0;34m\u001b[0m\u001b[0m\n",
      "\u001b[0;32m~/miniforge3/envs/ohop/lib/python3.9/lib2to3/pgen2/pgen.py\u001b[0m in \u001b[0;36maddfirstsets\u001b[0;34m(self)\u001b[0m\n\u001b[1;32m    110\u001b[0m         \u001b[0;32mfor\u001b[0m \u001b[0mname\u001b[0m \u001b[0;32min\u001b[0m \u001b[0mnames\u001b[0m\u001b[0;34m:\u001b[0m\u001b[0;34m\u001b[0m\u001b[0;34m\u001b[0m\u001b[0m\n\u001b[1;32m    111\u001b[0m             \u001b[0;32mif\u001b[0m \u001b[0mname\u001b[0m \u001b[0;32mnot\u001b[0m \u001b[0;32min\u001b[0m \u001b[0mself\u001b[0m\u001b[0;34m.\u001b[0m\u001b[0mfirst\u001b[0m\u001b[0;34m:\u001b[0m\u001b[0;34m\u001b[0m\u001b[0;34m\u001b[0m\u001b[0m\n\u001b[0;32m--> 112\u001b[0;31m                 \u001b[0mself\u001b[0m\u001b[0;34m.\u001b[0m\u001b[0mcalcfirst\u001b[0m\u001b[0;34m(\u001b[0m\u001b[0mname\u001b[0m\u001b[0;34m)\u001b[0m\u001b[0;34m\u001b[0m\u001b[0;34m\u001b[0m\u001b[0m\n\u001b[0m\u001b[1;32m    113\u001b[0m             \u001b[0;31m#print name, self.first[name].keys()\u001b[0m\u001b[0;34m\u001b[0m\u001b[0;34m\u001b[0m\u001b[0m\n\u001b[1;32m    114\u001b[0m \u001b[0;34m\u001b[0m\u001b[0m\n",
      "\u001b[0;32m~/miniforge3/envs/ohop/lib/python3.9/lib2to3/pgen2/pgen.py\u001b[0m in \u001b[0;36mcalcfirst\u001b[0;34m(self, name)\u001b[0m\n\u001b[1;32m    137\u001b[0m             \u001b[0;32mfor\u001b[0m \u001b[0msymbol\u001b[0m \u001b[0;32min\u001b[0m \u001b[0mitsfirst\u001b[0m\u001b[0;34m:\u001b[0m\u001b[0;34m\u001b[0m\u001b[0;34m\u001b[0m\u001b[0m\n\u001b[1;32m    138\u001b[0m                 \u001b[0;32mif\u001b[0m \u001b[0msymbol\u001b[0m \u001b[0;32min\u001b[0m \u001b[0minverse\u001b[0m\u001b[0;34m:\u001b[0m\u001b[0;34m\u001b[0m\u001b[0;34m\u001b[0m\u001b[0m\n\u001b[0;32m--> 139\u001b[0;31m                     raise ValueError(\"rule %s is ambiguous; %s is in the\"\n\u001b[0m\u001b[1;32m    140\u001b[0m                                      \u001b[0;34m\" first sets of %s as well as %s\"\u001b[0m \u001b[0;34m%\u001b[0m\u001b[0;34m\u001b[0m\u001b[0;34m\u001b[0m\u001b[0m\n\u001b[1;32m    141\u001b[0m                                      (name, symbol, label, inverse[symbol]))\n",
      "\u001b[0;31mValueError\u001b[0m: rule statement is ambiguous; NAME is in the first sets of expr as well as assign"
     ]
    }
   ],
   "source": [
    "%%mycell pgenify['calc_grammar']\n",
    "\n",
    "statements: (statement NEWLINE)* ENDMARKER\n",
    "statement: assign | expr\n",
    "assign: NAME '=' expr\n",
    "expr: atom [op expr]\n",
    "atom: NAME | NUMBER\n",
    "op: '+' | '-'"
   ]
  },
  {
   "cell_type": "code",
   "execution_count": 8,
   "id": "fe323425",
   "metadata": {},
   "outputs": [
    {
     "data": {
      "text/plain": [
       "<lib2to3.pgen2.pgen.PgenGrammar at 0x10a78d3a0>"
      ]
     },
     "execution_count": 8,
     "metadata": {},
     "output_type": "execute_result"
    }
   ],
   "source": [
    "%%mycell pgenify['calc_grammar']\n",
    "\n",
    "statements: (statement NEWLINE)* ENDMARKER\n",
    "statement: expr ['=' expr]\n",
    "expr: atom [op expr]\n",
    "atom: NAME | NUMBER\n",
    "op: '+' | '-'"
   ]
  },
  {
   "cell_type": "code",
   "execution_count": 9,
   "id": "13ea40d3",
   "metadata": {},
   "outputs": [
    {
     "data": {
      "text/plain": [
       "Node(file_input, [Node(and_test, [Leaf(2, '1'), Leaf(14, '+'), Node(and_test, [Leaf(2, '2'), Leaf(15, '-'), Leaf(2, '3')])]), Leaf(4, '\\n'), Leaf(0, '')])"
      ]
     },
     "execution_count": 9,
     "metadata": {},
     "output_type": "execute_result"
    }
   ],
   "source": [
    "import nbimport\n",
    "import Episode16\n",
    "Tree = Episode16.Tree\n",
    "from lib2to3 import pytree\n",
    "\n",
    "calc_driver = driver.Driver(calc_grammar, pytree.convert)\n",
    "calc_driver.parse_string('1 + 2 - 3\\n')"
   ]
  },
  {
   "cell_type": "code",
   "execution_count": 10,
   "id": "628512bb",
   "metadata": {},
   "outputs": [],
   "source": [
    "def pytree_to_tree(node):\n",
    "    if isinstance(node, pytree.Leaf):\n",
    "        return Tree(node, [])\n",
    "    else:\n",
    "        return Tree(node.type, [pytree_to_tree(child) for child in node.children])\n",
    "\n",
    "def _calcify(cell, _):\n",
    "    return pytree_to_tree(calc_driver.parse_string(cell))\n",
    "\n",
    "calcify = Bindify(_calcify)"
   ]
  },
  {
   "cell_type": "code",
   "execution_count": 11,
   "id": "df243ca2",
   "metadata": {},
   "outputs": [
    {
     "data": {
      "text/plain": [
       "Tree(contents=256, children=[Tree(contents=258, children=[Tree(contents=Leaf(2, '1'), children=[]), Tree(contents=Leaf(14, '+'), children=[]), Tree(contents=258, children=[Tree(contents=Leaf(2, '2'), children=[]), Tree(contents=Leaf(15, '-'), children=[]), Tree(contents=Leaf(2, '3'), children=[])])]), Tree(contents=Leaf(4, '\\n'), children=[]), Tree(contents=260, children=[Tree(contents=Leaf(1, 'A'), children=[]), Tree(contents=Leaf(22, '='), children=[]), Tree(contents=Leaf(2, '42'), children=[])]), Tree(contents=Leaf(4, '\\n'), children=[]), Tree(contents=Leaf(0, ''), children=[])])"
      ]
     },
     "execution_count": 11,
     "metadata": {},
     "output_type": "execute_result"
    }
   ],
   "source": [
    "%%mycell calcify['tree']\n",
    "1 + 2 - 3\n",
    "A = 42"
   ]
  },
  {
   "cell_type": "code",
   "execution_count": 12,
   "id": "21befbb5",
   "metadata": {},
   "outputs": [
    {
     "data": {
      "text/plain": [
       "(256,\n",
       " [(258,\n",
       "   [(Leaf(2, '1'), []),\n",
       "    (Leaf(14, '+'), []),\n",
       "    (258, [(Leaf(2, '2'), []), (Leaf(15, '-'), []), (Leaf(2, '3'), [])])]),\n",
       "  (Leaf(4, '\\n'), []),\n",
       "  (260, [(Leaf(1, 'A'), []), (Leaf(22, '='), []), (Leaf(2, '42'), [])]),\n",
       "  (Leaf(4, '\\n'), []),\n",
       "  (Leaf(0, ''), [])])"
      ]
     },
     "execution_count": 12,
     "metadata": {},
     "output_type": "execute_result"
    }
   ],
   "source": [
    "Episode16.tree_to_tuple(tree)"
   ]
  },
  {
   "cell_type": "code",
   "execution_count": 13,
   "id": "8166391b",
   "metadata": {},
   "outputs": [
    {
     "name": "stdout",
     "output_type": "stream",
     "text": [
      "s2n\n",
      "{'atom': 257, 'expr': 258, 'op': 259, 'statement': 260, 'statements': 256}\n",
      "n2s\n",
      "{256: 'statements', 257: 'atom', 258: 'expr', 259: 'op', 260: 'statement'}\n",
      "states\n",
      "[[[(1, 1), (2, 2)], [(0, 1)], [(3, 0)]],\n",
      " [[(4, 1), (5, 1)], [(0, 1)]],\n",
      " [[(6, 1)], [(7, 2), (0, 1)], [(8, 3)], [(0, 3)]],\n",
      " [[(9, 1), (10, 1)], [(0, 1)]],\n",
      " [[(8, 1)], [(11, 2), (0, 1)], [(8, 3)], [(0, 3)]]]\n",
      "dfas\n",
      "{256: ([[(1, 1), (2, 2)], [(0, 1)], [(3, 0)]], {1: 1, 4: 1, 5: 1}),\n",
      " 257: ([[(4, 1), (5, 1)], [(0, 1)]], {4: 1, 5: 1}),\n",
      " 258: ([[(6, 1)], [(7, 2), (0, 1)], [(8, 3)], [(0, 3)]], {4: 1, 5: 1}),\n",
      " 259: ([[(9, 1), (10, 1)], [(0, 1)]], {9: 1, 10: 1}),\n",
      " 260: ([[(8, 1)], [(11, 2), (0, 1)], [(8, 3)], [(0, 3)]], {4: 1, 5: 1})}\n",
      "labels\n",
      "[(0, 'EMPTY'),\n",
      " (0, None),\n",
      " (260, None),\n",
      " (4, None),\n",
      " (1, None),\n",
      " (2, None),\n",
      " (257, None),\n",
      " (259, None),\n",
      " (258, None),\n",
      " (14, None),\n",
      " (15, None),\n",
      " (22, None)]\n",
      "start 256\n"
     ]
    }
   ],
   "source": [
    "calc_grammar.report()"
   ]
  },
  {
   "cell_type": "markdown",
   "id": "05ece775",
   "metadata": {},
   "source": [
    "## A Word of Warning\n",
    "\n",
    "There is a bug in the generated parser where the `convert` argument is optional, but when left unused, the raw representation will be a tuple and not an object.\n",
    "\n",
    "Therefore, this doesn't work:"
   ]
  },
  {
   "cell_type": "code",
   "execution_count": 14,
   "id": "906a7e53",
   "metadata": {},
   "outputs": [
    {
     "ename": "AttributeError",
     "evalue": "'tuple' object has no attribute 'used_names'",
     "output_type": "error",
     "traceback": [
      "\u001b[0;31m---------------------------------------------------------------------------\u001b[0m",
      "\u001b[0;31mAttributeError\u001b[0m                            Traceback (most recent call last)",
      "\u001b[0;32m/var/folders/q7/ylhf40fn5kq9xrbfmsl61q4h0000gn/T/ipykernel_31067/1889552184.py\u001b[0m in \u001b[0;36m<module>\u001b[0;34m\u001b[0m\n\u001b[1;32m      1\u001b[0m \u001b[0mbad_driver\u001b[0m \u001b[0;34m=\u001b[0m \u001b[0mdriver\u001b[0m\u001b[0;34m.\u001b[0m\u001b[0mDriver\u001b[0m\u001b[0;34m(\u001b[0m\u001b[0mcalc_grammar\u001b[0m\u001b[0;34m)\u001b[0m\u001b[0;34m\u001b[0m\u001b[0;34m\u001b[0m\u001b[0m\n\u001b[0;32m----> 2\u001b[0;31m \u001b[0mbad_driver\u001b[0m\u001b[0;34m.\u001b[0m\u001b[0mparse_string\u001b[0m\u001b[0;34m(\u001b[0m\u001b[0;34m'1 + 2 - 3\\n'\u001b[0m\u001b[0;34m)\u001b[0m\u001b[0;34m\u001b[0m\u001b[0;34m\u001b[0m\u001b[0m\n\u001b[0m",
      "\u001b[0;32m~/miniforge3/envs/ohop/lib/python3.9/lib2to3/pgen2/driver.py\u001b[0m in \u001b[0;36mparse_string\u001b[0;34m(self, text, debug)\u001b[0m\n\u001b[1;32m    101\u001b[0m         \u001b[0;34m\"\"\"Parse a string and return the syntax tree.\"\"\"\u001b[0m\u001b[0;34m\u001b[0m\u001b[0;34m\u001b[0m\u001b[0m\n\u001b[1;32m    102\u001b[0m         \u001b[0mtokens\u001b[0m \u001b[0;34m=\u001b[0m \u001b[0mtokenize\u001b[0m\u001b[0;34m.\u001b[0m\u001b[0mgenerate_tokens\u001b[0m\u001b[0;34m(\u001b[0m\u001b[0mio\u001b[0m\u001b[0;34m.\u001b[0m\u001b[0mStringIO\u001b[0m\u001b[0;34m(\u001b[0m\u001b[0mtext\u001b[0m\u001b[0;34m)\u001b[0m\u001b[0;34m.\u001b[0m\u001b[0mreadline\u001b[0m\u001b[0;34m)\u001b[0m\u001b[0;34m\u001b[0m\u001b[0;34m\u001b[0m\u001b[0m\n\u001b[0;32m--> 103\u001b[0;31m         \u001b[0;32mreturn\u001b[0m \u001b[0mself\u001b[0m\u001b[0;34m.\u001b[0m\u001b[0mparse_tokens\u001b[0m\u001b[0;34m(\u001b[0m\u001b[0mtokens\u001b[0m\u001b[0;34m,\u001b[0m \u001b[0mdebug\u001b[0m\u001b[0;34m)\u001b[0m\u001b[0;34m\u001b[0m\u001b[0;34m\u001b[0m\u001b[0m\n\u001b[0m\u001b[1;32m    104\u001b[0m \u001b[0;34m\u001b[0m\u001b[0m\n\u001b[1;32m    105\u001b[0m \u001b[0;34m\u001b[0m\u001b[0m\n",
      "\u001b[0;32m~/miniforge3/envs/ohop/lib/python3.9/lib2to3/pgen2/driver.py\u001b[0m in \u001b[0;36mparse_tokens\u001b[0;34m(self, tokens, debug)\u001b[0m\n\u001b[1;32m     69\u001b[0m                 self.logger.debug(\"%s %r (prefix=%r)\",\n\u001b[1;32m     70\u001b[0m                                   token.tok_name[type], value, prefix)\n\u001b[0;32m---> 71\u001b[0;31m             \u001b[0;32mif\u001b[0m \u001b[0mp\u001b[0m\u001b[0;34m.\u001b[0m\u001b[0maddtoken\u001b[0m\u001b[0;34m(\u001b[0m\u001b[0mtype\u001b[0m\u001b[0;34m,\u001b[0m \u001b[0mvalue\u001b[0m\u001b[0;34m,\u001b[0m \u001b[0;34m(\u001b[0m\u001b[0mprefix\u001b[0m\u001b[0;34m,\u001b[0m \u001b[0mstart\u001b[0m\u001b[0;34m)\u001b[0m\u001b[0;34m)\u001b[0m\u001b[0;34m:\u001b[0m\u001b[0;34m\u001b[0m\u001b[0;34m\u001b[0m\u001b[0m\n\u001b[0m\u001b[1;32m     72\u001b[0m                 \u001b[0;32mif\u001b[0m \u001b[0mdebug\u001b[0m\u001b[0;34m:\u001b[0m\u001b[0;34m\u001b[0m\u001b[0;34m\u001b[0m\u001b[0m\n\u001b[1;32m     73\u001b[0m                     \u001b[0mself\u001b[0m\u001b[0;34m.\u001b[0m\u001b[0mlogger\u001b[0m\u001b[0;34m.\u001b[0m\u001b[0mdebug\u001b[0m\u001b[0;34m(\u001b[0m\u001b[0;34m\"Stop.\"\u001b[0m\u001b[0;34m)\u001b[0m\u001b[0;34m\u001b[0m\u001b[0;34m\u001b[0m\u001b[0m\n",
      "\u001b[0;32m~/miniforge3/envs/ohop/lib/python3.9/lib2to3/pgen2/parse.py\u001b[0m in \u001b[0;36maddtoken\u001b[0;34m(self, type, value, context)\u001b[0m\n\u001b[1;32m    134\u001b[0m                     \u001b[0mstate\u001b[0m \u001b[0;34m=\u001b[0m \u001b[0mnewstate\u001b[0m\u001b[0;34m\u001b[0m\u001b[0;34m\u001b[0m\u001b[0m\n\u001b[1;32m    135\u001b[0m                     \u001b[0;32mwhile\u001b[0m \u001b[0mstates\u001b[0m\u001b[0;34m[\u001b[0m\u001b[0mstate\u001b[0m\u001b[0;34m]\u001b[0m \u001b[0;34m==\u001b[0m \u001b[0;34m[\u001b[0m\u001b[0;34m(\u001b[0m\u001b[0;36m0\u001b[0m\u001b[0;34m,\u001b[0m \u001b[0mstate\u001b[0m\u001b[0;34m)\u001b[0m\u001b[0;34m]\u001b[0m\u001b[0;34m:\u001b[0m\u001b[0;34m\u001b[0m\u001b[0;34m\u001b[0m\u001b[0m\n\u001b[0;32m--> 136\u001b[0;31m                         \u001b[0mself\u001b[0m\u001b[0;34m.\u001b[0m\u001b[0mpop\u001b[0m\u001b[0;34m(\u001b[0m\u001b[0;34m)\u001b[0m\u001b[0;34m\u001b[0m\u001b[0;34m\u001b[0m\u001b[0m\n\u001b[0m\u001b[1;32m    137\u001b[0m                         \u001b[0;32mif\u001b[0m \u001b[0;32mnot\u001b[0m \u001b[0mself\u001b[0m\u001b[0;34m.\u001b[0m\u001b[0mstack\u001b[0m\u001b[0;34m:\u001b[0m\u001b[0;34m\u001b[0m\u001b[0;34m\u001b[0m\u001b[0m\n\u001b[1;32m    138\u001b[0m                             \u001b[0;31m# Done parsing!\u001b[0m\u001b[0;34m\u001b[0m\u001b[0;34m\u001b[0m\u001b[0m\n",
      "\u001b[0;32m~/miniforge3/envs/ohop/lib/python3.9/lib2to3/pgen2/parse.py\u001b[0m in \u001b[0;36mpop\u001b[0;34m(self)\u001b[0m\n\u001b[1;32m    202\u001b[0m             \u001b[0;32melse\u001b[0m\u001b[0;34m:\u001b[0m\u001b[0;34m\u001b[0m\u001b[0;34m\u001b[0m\u001b[0m\n\u001b[1;32m    203\u001b[0m                 \u001b[0mself\u001b[0m\u001b[0;34m.\u001b[0m\u001b[0mrootnode\u001b[0m \u001b[0;34m=\u001b[0m \u001b[0mnewnode\u001b[0m\u001b[0;34m\u001b[0m\u001b[0;34m\u001b[0m\u001b[0m\n\u001b[0;32m--> 204\u001b[0;31m                 \u001b[0mself\u001b[0m\u001b[0;34m.\u001b[0m\u001b[0mrootnode\u001b[0m\u001b[0;34m.\u001b[0m\u001b[0mused_names\u001b[0m \u001b[0;34m=\u001b[0m \u001b[0mself\u001b[0m\u001b[0;34m.\u001b[0m\u001b[0mused_names\u001b[0m\u001b[0;34m\u001b[0m\u001b[0;34m\u001b[0m\u001b[0m\n\u001b[0m",
      "\u001b[0;31mAttributeError\u001b[0m: 'tuple' object has no attribute 'used_names'"
     ]
    }
   ],
   "source": [
    "bad_driver = driver.Driver(calc_grammar)\n",
    "bad_driver.parse_string('1 + 2 - 3\\n')"
   ]
  },
  {
   "cell_type": "code",
   "execution_count": 17,
   "id": "ed9d3910",
   "metadata": {},
   "outputs": [
    {
     "data": {
      "text/plain": [
       "(256,\n",
       " [(260,\n",
       "   [(258,\n",
       "     [(257, [((2, '1'), [])]),\n",
       "      (259, [((14, '+'), [])]),\n",
       "      (258,\n",
       "       [(257, [((2, '2'), [])]),\n",
       "        (259, [((15, '-'), [])]),\n",
       "        (258, [(257, [((2, '3'), [])])])])])]),\n",
       "  ((4, '\\n'), []),\n",
       "  ((0, ''), [])])"
      ]
     },
     "execution_count": 17,
     "metadata": {},
     "output_type": "execute_result"
    }
   ],
   "source": [
    "class Tree2:\n",
    "    def __init__(self, contents, children):\n",
    "        self.contents = contents\n",
    "        self.children = children\n",
    "\n",
    "    def to_tuple(self):\n",
    "        return self.contents, [child.to_tuple() for child in self.children]\n",
    "\n",
    "def ohop_convert(grammar, raw_node):\n",
    "    type, value, context, children = raw_node\n",
    "    if children or type in grammar.number2symbol:\n",
    "        return Tree2(type, children)\n",
    "    else:\n",
    "        return Tree2((type, value), [])\n",
    "\n",
    "better_driver = driver.Driver(calc_grammar, ohop_convert)\n",
    "better_driver.parse_string('1 + 2 - 3\\n').to_tuple()"
   ]
  },
  {
   "cell_type": "code",
   "execution_count": 18,
   "id": "c448e97a",
   "metadata": {},
   "outputs": [],
   "source": [
    "def ohop_convert2(grammar, raw_node):\n",
    "    type, value, context, children = raw_node\n",
    "    if children or type in grammar.number2symbol:\n",
    "        return Tree2(type if type not in grammar.number2symbol else grammar.number2symbol[type], children)\n",
    "    else:\n",
    "        return Tree2((type, value), [])"
   ]
  },
  {
   "cell_type": "code",
   "execution_count": 19,
   "id": "e22dc087",
   "metadata": {},
   "outputs": [
    {
     "data": {
      "text/plain": [
       "('statements',\n",
       " [('statement',\n",
       "   [('expr',\n",
       "     [('atom', [((2, '1'), [])]),\n",
       "      ('op', [((14, '+'), [])]),\n",
       "      ('expr',\n",
       "       [('atom', [((2, '2'), [])]),\n",
       "        ('op', [((15, '-'), [])]),\n",
       "        ('expr', [('atom', [((2, '3'), [])])])])])]),\n",
       "  ((4, '\\n'), []),\n",
       "  ('statement',\n",
       "   [('expr', [('atom', [((1, 'A'), [])])]),\n",
       "    ((22, '='), []),\n",
       "    ('expr', [('atom', [((2, '42'), [])])])]),\n",
       "  ((4, '\\n'), []),\n",
       "  ((0, ''), [])])"
      ]
     },
     "execution_count": 19,
     "metadata": {},
     "output_type": "execute_result"
    }
   ],
   "source": [
    "yet_another_driver = driver.Driver(calc_grammar, ohop_convert2)\n",
    "yet_another_driver.parse_string('1 + 2 - 3\\nA = 42\\n').to_tuple()"
   ]
  },
  {
   "cell_type": "code",
   "execution_count": null,
   "id": "1b56a74d",
   "metadata": {},
   "outputs": [],
   "source": []
  }
 ],
 "metadata": {
  "kernelspec": {
   "display_name": "Python 3 (ipykernel)",
   "language": "python",
   "name": "python3"
  },
  "language_info": {
   "codemirror_mode": {
    "name": "ipython",
    "version": 3
   },
   "file_extension": ".py",
   "mimetype": "text/x-python",
   "name": "python",
   "nbconvert_exporter": "python",
   "pygments_lexer": "ipython3",
   "version": "3.9.7"
  }
 },
 "nbformat": 4,
 "nbformat_minor": 5
}
